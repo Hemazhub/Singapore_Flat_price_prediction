{
 "cells": [
  {
   "cell_type": "code",
   "execution_count": 1,
   "id": "04044b29-48f0-4268-9eca-536b38ee47f4",
   "metadata": {},
   "outputs": [],
   "source": [
    "import pandas as pd\n",
    "import numpy as np\n",
    "import matplotlib.pyplot as plt\n",
    "import matplotlib\n",
    "import seaborn as sns"
   ]
  },
  {
   "cell_type": "code",
   "execution_count": 2,
   "id": "0c382d78-948c-4eed-8304-96b83c00ca22",
   "metadata": {},
   "outputs": [],
   "source": [
    "import warnings\n",
    "warnings.filterwarnings(\"ignore\")"
   ]
  },
  {
   "cell_type": "code",
   "execution_count": 3,
   "id": "15b4113e-0990-4596-ad25-d339ac9af45d",
   "metadata": {},
   "outputs": [],
   "source": [
    "df_20002012 = pd.read_csv(\"C:\\Guvi_projects\\Resale_flat_datasets\\ResaleFlatPricesBasedonApprovalDate2000Feb2012.csv\")\n",
    "df_19901999 = pd.read_csv(\"C:\\Guvi_projects\\Resale_flat_datasets\\ResaleFlatPricesBasedonApprovalDate19901999.csv\")\n",
    "df_20152016 = pd.read_csv(\"C:\\Guvi_projects\\Resale_flat_datasets\\ResaleFlatPricesBasedonRegistrationDateFromJan2015toDec2016.csv\")\n",
    "df_20122014 = pd.read_csv(\"C:\\Guvi_projects\\Resale_flat_datasets\\ResaleFlatPricesBasedonRegistrationDateFromMar2012toDec2014.csv\")\n",
    "df_20172023 = pd.read_csv(\"C:\\Guvi_projects\\Resale_flat_datasets\\Resaleflatprices2017.csv\")"
   ]
  },
  {
   "cell_type": "code",
   "execution_count": 4,
   "id": "1843016d-d733-4125-859c-be7bfa7e01ce",
   "metadata": {},
   "outputs": [],
   "source": [
    "df = pd.concat([df_19901999, df_20002012, df_20122014, df_20152016, df_20172023], ignore_index=True)"
   ]
  },
  {
   "cell_type": "code",
   "execution_count": 5,
   "id": "2c5020b8-a566-4a65-a139-9db9e8a1a164",
   "metadata": {},
   "outputs": [
    {
     "data": {
      "text/html": [
       "<div>\n",
       "<style scoped>\n",
       "    .dataframe tbody tr th:only-of-type {\n",
       "        vertical-align: middle;\n",
       "    }\n",
       "\n",
       "    .dataframe tbody tr th {\n",
       "        vertical-align: top;\n",
       "    }\n",
       "\n",
       "    .dataframe thead th {\n",
       "        text-align: right;\n",
       "    }\n",
       "</style>\n",
       "<table border=\"1\" class=\"dataframe\">\n",
       "  <thead>\n",
       "    <tr style=\"text-align: right;\">\n",
       "      <th></th>\n",
       "      <th>month</th>\n",
       "      <th>town</th>\n",
       "      <th>flat_type</th>\n",
       "      <th>block</th>\n",
       "      <th>street_name</th>\n",
       "      <th>storey_range</th>\n",
       "      <th>floor_area_sqm</th>\n",
       "      <th>flat_model</th>\n",
       "      <th>lease_commence_date</th>\n",
       "      <th>resale_price</th>\n",
       "      <th>remaining_lease</th>\n",
       "    </tr>\n",
       "  </thead>\n",
       "  <tbody>\n",
       "    <tr>\n",
       "      <th>0</th>\n",
       "      <td>1990-01</td>\n",
       "      <td>ANG MO KIO</td>\n",
       "      <td>1 ROOM</td>\n",
       "      <td>309</td>\n",
       "      <td>ANG MO KIO AVE 1</td>\n",
       "      <td>10 TO 12</td>\n",
       "      <td>31.0</td>\n",
       "      <td>IMPROVED</td>\n",
       "      <td>1977</td>\n",
       "      <td>9000.0</td>\n",
       "      <td>NaN</td>\n",
       "    </tr>\n",
       "    <tr>\n",
       "      <th>1</th>\n",
       "      <td>1990-01</td>\n",
       "      <td>ANG MO KIO</td>\n",
       "      <td>1 ROOM</td>\n",
       "      <td>309</td>\n",
       "      <td>ANG MO KIO AVE 1</td>\n",
       "      <td>04 TO 06</td>\n",
       "      <td>31.0</td>\n",
       "      <td>IMPROVED</td>\n",
       "      <td>1977</td>\n",
       "      <td>6000.0</td>\n",
       "      <td>NaN</td>\n",
       "    </tr>\n",
       "    <tr>\n",
       "      <th>2</th>\n",
       "      <td>1990-01</td>\n",
       "      <td>ANG MO KIO</td>\n",
       "      <td>1 ROOM</td>\n",
       "      <td>309</td>\n",
       "      <td>ANG MO KIO AVE 1</td>\n",
       "      <td>10 TO 12</td>\n",
       "      <td>31.0</td>\n",
       "      <td>IMPROVED</td>\n",
       "      <td>1977</td>\n",
       "      <td>8000.0</td>\n",
       "      <td>NaN</td>\n",
       "    </tr>\n",
       "    <tr>\n",
       "      <th>3</th>\n",
       "      <td>1990-01</td>\n",
       "      <td>ANG MO KIO</td>\n",
       "      <td>1 ROOM</td>\n",
       "      <td>309</td>\n",
       "      <td>ANG MO KIO AVE 1</td>\n",
       "      <td>07 TO 09</td>\n",
       "      <td>31.0</td>\n",
       "      <td>IMPROVED</td>\n",
       "      <td>1977</td>\n",
       "      <td>6000.0</td>\n",
       "      <td>NaN</td>\n",
       "    </tr>\n",
       "    <tr>\n",
       "      <th>4</th>\n",
       "      <td>1990-01</td>\n",
       "      <td>ANG MO KIO</td>\n",
       "      <td>3 ROOM</td>\n",
       "      <td>216</td>\n",
       "      <td>ANG MO KIO AVE 1</td>\n",
       "      <td>04 TO 06</td>\n",
       "      <td>73.0</td>\n",
       "      <td>NEW GENERATION</td>\n",
       "      <td>1976</td>\n",
       "      <td>47200.0</td>\n",
       "      <td>NaN</td>\n",
       "    </tr>\n",
       "  </tbody>\n",
       "</table>\n",
       "</div>"
      ],
      "text/plain": [
       "     month        town flat_type block       street_name storey_range  \\\n",
       "0  1990-01  ANG MO KIO    1 ROOM   309  ANG MO KIO AVE 1     10 TO 12   \n",
       "1  1990-01  ANG MO KIO    1 ROOM   309  ANG MO KIO AVE 1     04 TO 06   \n",
       "2  1990-01  ANG MO KIO    1 ROOM   309  ANG MO KIO AVE 1     10 TO 12   \n",
       "3  1990-01  ANG MO KIO    1 ROOM   309  ANG MO KIO AVE 1     07 TO 09   \n",
       "4  1990-01  ANG MO KIO    3 ROOM   216  ANG MO KIO AVE 1     04 TO 06   \n",
       "\n",
       "   floor_area_sqm      flat_model  lease_commence_date  resale_price  \\\n",
       "0            31.0        IMPROVED                 1977        9000.0   \n",
       "1            31.0        IMPROVED                 1977        6000.0   \n",
       "2            31.0        IMPROVED                 1977        8000.0   \n",
       "3            31.0        IMPROVED                 1977        6000.0   \n",
       "4            73.0  NEW GENERATION                 1976       47200.0   \n",
       "\n",
       "  remaining_lease  \n",
       "0             NaN  \n",
       "1             NaN  \n",
       "2             NaN  \n",
       "3             NaN  \n",
       "4             NaN  "
      ]
     },
     "execution_count": 5,
     "metadata": {},
     "output_type": "execute_result"
    }
   ],
   "source": [
    "df.head()"
   ]
  },
  {
   "cell_type": "code",
   "execution_count": 7,
   "id": "5f07d1cf-81b0-4d81-a08d-a610c570455c",
   "metadata": {},
   "outputs": [
    {
     "name": "stdout",
     "output_type": "stream",
     "text": [
      "<class 'pandas.core.frame.DataFrame'>\n",
      "RangeIndex: 912986 entries, 0 to 912985\n",
      "Data columns (total 11 columns):\n",
      " #   Column               Non-Null Count   Dtype  \n",
      "---  ------               --------------   -----  \n",
      " 0   month                912986 non-null  object \n",
      " 1   town                 912986 non-null  object \n",
      " 2   flat_type            912986 non-null  object \n",
      " 3   block                912986 non-null  object \n",
      " 4   street_name          912986 non-null  object \n",
      " 5   storey_range         912986 non-null  object \n",
      " 6   floor_area_sqm       912986 non-null  float64\n",
      " 7   flat_model           912986 non-null  object \n",
      " 8   lease_commence_date  912986 non-null  int64  \n",
      " 9   resale_price         912986 non-null  float64\n",
      " 10  remaining_lease      203936 non-null  object \n",
      "dtypes: float64(2), int64(1), object(8)\n",
      "memory usage: 76.6+ MB\n"
     ]
    }
   ],
   "source": [
    "df.info()"
   ]
  },
  {
   "cell_type": "code",
   "execution_count": 8,
   "id": "bc51be7c-9d74-49ca-ba77-8028254e23f9",
   "metadata": {},
   "outputs": [
    {
     "data": {
      "text/plain": [
       "month                       0\n",
       "town                        0\n",
       "flat_type                   0\n",
       "block                       0\n",
       "street_name                 0\n",
       "storey_range                0\n",
       "floor_area_sqm              0\n",
       "flat_model                  0\n",
       "lease_commence_date         0\n",
       "resale_price                0\n",
       "remaining_lease        709050\n",
       "dtype: int64"
      ]
     },
     "execution_count": 8,
     "metadata": {},
     "output_type": "execute_result"
    }
   ],
   "source": [
    "df.isnull().sum()"
   ]
  },
  {
   "cell_type": "code",
   "execution_count": 9,
   "id": "cddd1025-1416-4c23-9745-21364119e13b",
   "metadata": {},
   "outputs": [],
   "source": [
    "df.drop(\"remaining_lease\", axis = 1, inplace = True)"
   ]
  },
  {
   "cell_type": "code",
   "execution_count": 10,
   "id": "b35e4c49-3a55-49bb-9ca0-312939543d8d",
   "metadata": {},
   "outputs": [],
   "source": [
    "cat_cols = [col for col in df.columns if df[col].dtype == \"object\"]\n",
    "num_cols = [col for col in df.columns if df[col].dtype != \"object\"]"
   ]
  },
  {
   "cell_type": "code",
   "execution_count": 11,
   "id": "88014502-1bd8-412d-9c95-72c1bd677ca5",
   "metadata": {},
   "outputs": [
    {
     "name": "stdout",
     "output_type": "stream",
     "text": [
      "month - 407\n",
      "town - 27\n",
      "flat_type - 8\n",
      "block - 2695\n",
      "street_name - 583\n",
      "storey_range - 25\n",
      "flat_model - 34\n"
     ]
    }
   ],
   "source": [
    "for col in cat_cols:\n",
    "    print(f'{col} - {len(df[col].unique())}')"
   ]
  },
  {
   "cell_type": "code",
   "execution_count": 13,
   "id": "82aa773e-ca4b-440f-a93f-0dc3b80c29f0",
   "metadata": {},
   "outputs": [],
   "source": [
    "df.drop([\"block\", \"street_name\"], axis = 1, inplace = True)"
   ]
  },
  {
   "cell_type": "code",
   "execution_count": 14,
   "id": "cd480204-68ce-4402-8ef3-cc2db7bbc6d5",
   "metadata": {},
   "outputs": [
    {
     "data": {
      "text/html": [
       "<div>\n",
       "<style scoped>\n",
       "    .dataframe tbody tr th:only-of-type {\n",
       "        vertical-align: middle;\n",
       "    }\n",
       "\n",
       "    .dataframe tbody tr th {\n",
       "        vertical-align: top;\n",
       "    }\n",
       "\n",
       "    .dataframe thead th {\n",
       "        text-align: right;\n",
       "    }\n",
       "</style>\n",
       "<table border=\"1\" class=\"dataframe\">\n",
       "  <thead>\n",
       "    <tr style=\"text-align: right;\">\n",
       "      <th></th>\n",
       "      <th>month</th>\n",
       "      <th>town</th>\n",
       "      <th>flat_type</th>\n",
       "      <th>storey_range</th>\n",
       "      <th>floor_area_sqm</th>\n",
       "      <th>flat_model</th>\n",
       "      <th>lease_commence_date</th>\n",
       "      <th>resale_price</th>\n",
       "    </tr>\n",
       "  </thead>\n",
       "  <tbody>\n",
       "    <tr>\n",
       "      <th>0</th>\n",
       "      <td>1990-01</td>\n",
       "      <td>ANG MO KIO</td>\n",
       "      <td>1 ROOM</td>\n",
       "      <td>10 TO 12</td>\n",
       "      <td>31.0</td>\n",
       "      <td>IMPROVED</td>\n",
       "      <td>1977</td>\n",
       "      <td>9000.0</td>\n",
       "    </tr>\n",
       "    <tr>\n",
       "      <th>1</th>\n",
       "      <td>1990-01</td>\n",
       "      <td>ANG MO KIO</td>\n",
       "      <td>1 ROOM</td>\n",
       "      <td>04 TO 06</td>\n",
       "      <td>31.0</td>\n",
       "      <td>IMPROVED</td>\n",
       "      <td>1977</td>\n",
       "      <td>6000.0</td>\n",
       "    </tr>\n",
       "    <tr>\n",
       "      <th>2</th>\n",
       "      <td>1990-01</td>\n",
       "      <td>ANG MO KIO</td>\n",
       "      <td>1 ROOM</td>\n",
       "      <td>10 TO 12</td>\n",
       "      <td>31.0</td>\n",
       "      <td>IMPROVED</td>\n",
       "      <td>1977</td>\n",
       "      <td>8000.0</td>\n",
       "    </tr>\n",
       "    <tr>\n",
       "      <th>3</th>\n",
       "      <td>1990-01</td>\n",
       "      <td>ANG MO KIO</td>\n",
       "      <td>1 ROOM</td>\n",
       "      <td>07 TO 09</td>\n",
       "      <td>31.0</td>\n",
       "      <td>IMPROVED</td>\n",
       "      <td>1977</td>\n",
       "      <td>6000.0</td>\n",
       "    </tr>\n",
       "    <tr>\n",
       "      <th>4</th>\n",
       "      <td>1990-01</td>\n",
       "      <td>ANG MO KIO</td>\n",
       "      <td>3 ROOM</td>\n",
       "      <td>04 TO 06</td>\n",
       "      <td>73.0</td>\n",
       "      <td>NEW GENERATION</td>\n",
       "      <td>1976</td>\n",
       "      <td>47200.0</td>\n",
       "    </tr>\n",
       "  </tbody>\n",
       "</table>\n",
       "</div>"
      ],
      "text/plain": [
       "     month        town flat_type storey_range  floor_area_sqm      flat_model  \\\n",
       "0  1990-01  ANG MO KIO    1 ROOM     10 TO 12            31.0        IMPROVED   \n",
       "1  1990-01  ANG MO KIO    1 ROOM     04 TO 06            31.0        IMPROVED   \n",
       "2  1990-01  ANG MO KIO    1 ROOM     10 TO 12            31.0        IMPROVED   \n",
       "3  1990-01  ANG MO KIO    1 ROOM     07 TO 09            31.0        IMPROVED   \n",
       "4  1990-01  ANG MO KIO    3 ROOM     04 TO 06            73.0  NEW GENERATION   \n",
       "\n",
       "   lease_commence_date  resale_price  \n",
       "0                 1977        9000.0  \n",
       "1                 1977        6000.0  \n",
       "2                 1977        8000.0  \n",
       "3                 1977        6000.0  \n",
       "4                 1976       47200.0  "
      ]
     },
     "execution_count": 14,
     "metadata": {},
     "output_type": "execute_result"
    }
   ],
   "source": [
    "df.head()"
   ]
  },
  {
   "cell_type": "code",
   "execution_count": 16,
   "id": "b02092c1-d08e-4f4e-90a6-00e62e905ce1",
   "metadata": {},
   "outputs": [],
   "source": [
    "df['year'] = df['month'].apply(lambda x: int(str(x)[:4]))\n",
    "df['month'] = df['month'].apply(lambda x: int(str(x)[-2:]))"
   ]
  },
  {
   "cell_type": "code",
   "execution_count": 17,
   "id": "d006e624-bf1c-408d-9788-bfb364ce67c7",
   "metadata": {},
   "outputs": [
    {
     "data": {
      "text/html": [
       "<div>\n",
       "<style scoped>\n",
       "    .dataframe tbody tr th:only-of-type {\n",
       "        vertical-align: middle;\n",
       "    }\n",
       "\n",
       "    .dataframe tbody tr th {\n",
       "        vertical-align: top;\n",
       "    }\n",
       "\n",
       "    .dataframe thead th {\n",
       "        text-align: right;\n",
       "    }\n",
       "</style>\n",
       "<table border=\"1\" class=\"dataframe\">\n",
       "  <thead>\n",
       "    <tr style=\"text-align: right;\">\n",
       "      <th></th>\n",
       "      <th>month</th>\n",
       "      <th>town</th>\n",
       "      <th>flat_type</th>\n",
       "      <th>storey_range</th>\n",
       "      <th>floor_area_sqm</th>\n",
       "      <th>flat_model</th>\n",
       "      <th>lease_commence_date</th>\n",
       "      <th>resale_price</th>\n",
       "      <th>year</th>\n",
       "    </tr>\n",
       "  </thead>\n",
       "  <tbody>\n",
       "    <tr>\n",
       "      <th>0</th>\n",
       "      <td>1</td>\n",
       "      <td>ANG MO KIO</td>\n",
       "      <td>1 ROOM</td>\n",
       "      <td>10 TO 12</td>\n",
       "      <td>31.0</td>\n",
       "      <td>IMPROVED</td>\n",
       "      <td>1977</td>\n",
       "      <td>9000.0</td>\n",
       "      <td>1990</td>\n",
       "    </tr>\n",
       "    <tr>\n",
       "      <th>1</th>\n",
       "      <td>1</td>\n",
       "      <td>ANG MO KIO</td>\n",
       "      <td>1 ROOM</td>\n",
       "      <td>04 TO 06</td>\n",
       "      <td>31.0</td>\n",
       "      <td>IMPROVED</td>\n",
       "      <td>1977</td>\n",
       "      <td>6000.0</td>\n",
       "      <td>1990</td>\n",
       "    </tr>\n",
       "    <tr>\n",
       "      <th>2</th>\n",
       "      <td>1</td>\n",
       "      <td>ANG MO KIO</td>\n",
       "      <td>1 ROOM</td>\n",
       "      <td>10 TO 12</td>\n",
       "      <td>31.0</td>\n",
       "      <td>IMPROVED</td>\n",
       "      <td>1977</td>\n",
       "      <td>8000.0</td>\n",
       "      <td>1990</td>\n",
       "    </tr>\n",
       "    <tr>\n",
       "      <th>3</th>\n",
       "      <td>1</td>\n",
       "      <td>ANG MO KIO</td>\n",
       "      <td>1 ROOM</td>\n",
       "      <td>07 TO 09</td>\n",
       "      <td>31.0</td>\n",
       "      <td>IMPROVED</td>\n",
       "      <td>1977</td>\n",
       "      <td>6000.0</td>\n",
       "      <td>1990</td>\n",
       "    </tr>\n",
       "    <tr>\n",
       "      <th>4</th>\n",
       "      <td>1</td>\n",
       "      <td>ANG MO KIO</td>\n",
       "      <td>3 ROOM</td>\n",
       "      <td>04 TO 06</td>\n",
       "      <td>73.0</td>\n",
       "      <td>NEW GENERATION</td>\n",
       "      <td>1976</td>\n",
       "      <td>47200.0</td>\n",
       "      <td>1990</td>\n",
       "    </tr>\n",
       "  </tbody>\n",
       "</table>\n",
       "</div>"
      ],
      "text/plain": [
       "   month        town flat_type storey_range  floor_area_sqm      flat_model  \\\n",
       "0      1  ANG MO KIO    1 ROOM     10 TO 12            31.0        IMPROVED   \n",
       "1      1  ANG MO KIO    1 ROOM     04 TO 06            31.0        IMPROVED   \n",
       "2      1  ANG MO KIO    1 ROOM     10 TO 12            31.0        IMPROVED   \n",
       "3      1  ANG MO KIO    1 ROOM     07 TO 09            31.0        IMPROVED   \n",
       "4      1  ANG MO KIO    3 ROOM     04 TO 06            73.0  NEW GENERATION   \n",
       "\n",
       "   lease_commence_date  resale_price  year  \n",
       "0                 1977        9000.0  1990  \n",
       "1                 1977        6000.0  1990  \n",
       "2                 1977        8000.0  1990  \n",
       "3                 1977        6000.0  1990  \n",
       "4                 1976       47200.0  1990  "
      ]
     },
     "execution_count": 17,
     "metadata": {},
     "output_type": "execute_result"
    }
   ],
   "source": [
    "df.head()"
   ]
  },
  {
   "cell_type": "code",
   "execution_count": 18,
   "id": "3ff59221-3278-48df-9703-225a535a1c81",
   "metadata": {},
   "outputs": [
    {
     "data": {
      "text/plain": [
       "array([1990, 1991, 1992, 1993, 1994, 1995, 1996, 1997, 1998, 1999, 2000,\n",
       "       2001, 2002, 2003, 2004, 2005, 2006, 2007, 2008, 2009, 2010, 2011,\n",
       "       2012, 2013, 2014, 2015, 2016, 2017, 2018, 2019, 2020, 2021, 2022,\n",
       "       2023], dtype=int64)"
      ]
     },
     "execution_count": 18,
     "metadata": {},
     "output_type": "execute_result"
    }
   ],
   "source": [
    "df[\"year\"].unique()"
   ]
  },
  {
   "cell_type": "code",
   "execution_count": 19,
   "id": "18ab6282-f595-42e3-acaf-d881abd75751",
   "metadata": {},
   "outputs": [
    {
     "data": {
      "text/plain": [
       "array([ 1,  2,  3,  4,  5,  6,  7,  8,  9, 10, 11, 12], dtype=int64)"
      ]
     },
     "execution_count": 19,
     "metadata": {},
     "output_type": "execute_result"
    }
   ],
   "source": [
    "df[\"month\"].unique()"
   ]
  },
  {
   "cell_type": "code",
   "execution_count": 20,
   "id": "02bf98a9-1f27-4506-95f5-fc8f43655794",
   "metadata": {},
   "outputs": [
    {
     "data": {
      "text/plain": [
       "month                  0\n",
       "town                   0\n",
       "flat_type              0\n",
       "storey_range           0\n",
       "floor_area_sqm         0\n",
       "flat_model             0\n",
       "lease_commence_date    0\n",
       "resale_price           0\n",
       "year                   0\n",
       "dtype: int64"
      ]
     },
     "execution_count": 20,
     "metadata": {},
     "output_type": "execute_result"
    }
   ],
   "source": [
    "df.isnull().sum()"
   ]
  },
  {
   "cell_type": "code",
   "execution_count": 21,
   "id": "43bc835f-c020-4367-a64f-b9044e988e46",
   "metadata": {},
   "outputs": [
    {
     "data": {
      "text/plain": [
       "<AxesSubplot:xlabel='floor_area_sqm', ylabel='resale_price'>"
      ]
     },
     "execution_count": 21,
     "metadata": {},
     "output_type": "execute_result"
    },
    {
     "data": {
      "image/png": "[encoded data removed]",
      "text/plain": [
       "<Figure size 432x288 with 1 Axes>"
      ]
     },
     "metadata": {
      "needs_background": "light"
     },
     "output_type": "display_data"
    }
   ],
   "source": [
    "#Visualization\n",
    "sns.scatterplot(data = df, x = \"floor_area_sqm\", y = \"resale_price\")"
   ]
  },
  {
   "cell_type": "code",
   "execution_count": 22,
   "id": "e3005158-edbc-4101-aa18-c9f1e1fad927",
   "metadata": {},
   "outputs": [
    {
     "data": {
      "image/png": "[encoded data removed]",
      "text/plain": [
       "<Figure size 864x288 with 1 Axes>"
      ]
     },
     "metadata": {
      "needs_background": "light"
     },
     "output_type": "display_data"
    }
   ],
   "source": [
    "plt.figure(figsize=(12,4))\n",
    "a = df.groupby('lease_commence_date')['resale_price'].sum()\n",
    "a = pd.DataFrame(a)\n",
    "sns.barplot(data=a,x=a.index,y='resale_price')\n",
    "plt.xticks(rotation=90)\n",
    "plt.show()"
   ]
  },
  {
   "cell_type": "code",
   "execution_count": 23,
   "id": "7bcb2390-fdcb-466c-8b95-60b5fe9ae474",
   "metadata": {},
   "outputs": [
    {
     "data": {
      "image/png": "[encoded data removed]",
      "text/plain": [
       "<Figure size 864x288 with 1 Axes>"
      ]
     },
     "metadata": {
      "needs_background": "light"
     },
     "output_type": "display_data"
    }
   ],
   "source": [
    "plt.figure(figsize=(12,4))\n",
    "a = df.groupby('year')['resale_price'].sum()\n",
    "a = pd.DataFrame(a)\n",
    "sns.barplot(data=a,x=a.index,y='resale_price')\n",
    "plt.xticks(rotation=90)\n",
    "plt.show()"
   ]
  },
  {
   "cell_type": "code",
   "execution_count": 24,
   "id": "807459fa-9c38-4a18-9245-af08dbf272cb",
   "metadata": {},
   "outputs": [
    {
     "data": {
      "image/png": "[encoded data removed]",
      "text/plain": [
       "<Figure size 864x288 with 1 Axes>"
      ]
     },
     "metadata": {
      "needs_background": "light"
     },
     "output_type": "display_data"
    }
   ],
   "source": [
    "plt.figure(figsize=(12,4))\n",
    "a = df.groupby('flat_type')['resale_price'].sum()\n",
    "a = pd.DataFrame(a)\n",
    "sns.barplot(data=a,x=a.index,y='resale_price')\n",
    "plt.xticks(rotation=90)\n",
    "plt.show()"
   ]
  },
  {
   "cell_type": "code",
   "execution_count": 25,
   "id": "1fe65428-b321-46b6-a60c-872ab3720b49",
   "metadata": {},
   "outputs": [],
   "source": [
    "# def line(col):\n",
    "#     a = df.groupby(col)['resale_price'].mean()\n",
    "#     a = pd.DataFrame(a)\n",
    "#     sns.lineplot(data=a,x=a.index,y='resale_price')\n",
    "#     plt.xticks(rotation=90)\n",
    "#     plt.show()\n",
    "# for col in ['flat_type', 'storey_range']:\n",
    "#     line(col)"
   ]
  },
  {
   "cell_type": "code",
   "execution_count": 27,
   "id": "f6b6638a-04a6-4a6d-9d97-d6d4fcd7823b",
   "metadata": {},
   "outputs": [],
   "source": [
    "# sns.heatmap(df.corr(), annot = True)"
   ]
  },
  {
   "cell_type": "code",
   "execution_count": 28,
   "id": "1f1fbacf-fcbb-4912-87ba-84c3e222d87d",
   "metadata": {},
   "outputs": [
    {
     "data": {
      "text/plain": [
       "<AxesSubplot:xlabel='year'>"
      ]
     },
     "execution_count": 28,
     "metadata": {},
     "output_type": "execute_result"
    },
    {
     "data": {
      "image/png": "[encoded data removed]",
      "text/plain": [
       "<Figure size 432x288 with 1 Axes>"
      ]
     },
     "metadata": {
      "needs_background": "light"
     },
     "output_type": "display_data"
    }
   ],
   "source": [
    "df.groupby('year').sum()['resale_price'].plot(kind='line')"
   ]
  },
  {
   "cell_type": "code",
   "execution_count": 29,
   "id": "bee664b0-c578-461f-859b-458362532a35",
   "metadata": {},
   "outputs": [
    {
     "data": {
      "text/plain": [
       "<AxesSubplot:xlabel='lease_commence_date'>"
      ]
     },
     "execution_count": 29,
     "metadata": {},
     "output_type": "execute_result"
    },
    {
     "data": {
      "image/png": "[encoded data removed]",
      "text/plain": [
       "<Figure size 432x288 with 1 Axes>"
      ]
     },
     "metadata": {
      "needs_background": "light"
     },
     "output_type": "display_data"
    }
   ],
   "source": [
    "df.groupby('lease_commence_date').sum()['resale_price'].plot(kind='line')"
   ]
  },
  {
   "cell_type": "code",
   "execution_count": 30,
   "id": "c1745a65-5e05-4640-a1ce-563dd170976e",
   "metadata": {},
   "outputs": [
    {
     "data": {
      "text/html": [
       "<div>\n",
       "<style scoped>\n",
       "    .dataframe tbody tr th:only-of-type {\n",
       "        vertical-align: middle;\n",
       "    }\n",
       "\n",
       "    .dataframe tbody tr th {\n",
       "        vertical-align: top;\n",
       "    }\n",
       "\n",
       "    .dataframe thead th {\n",
       "        text-align: right;\n",
       "    }\n",
       "</style>\n",
       "<table border=\"1\" class=\"dataframe\">\n",
       "  <thead>\n",
       "    <tr style=\"text-align: right;\">\n",
       "      <th></th>\n",
       "      <th>month</th>\n",
       "      <th>town</th>\n",
       "      <th>flat_type</th>\n",
       "      <th>storey_range</th>\n",
       "      <th>floor_area_sqm</th>\n",
       "      <th>flat_model</th>\n",
       "      <th>lease_commence_date</th>\n",
       "      <th>resale_price</th>\n",
       "      <th>year</th>\n",
       "    </tr>\n",
       "  </thead>\n",
       "  <tbody>\n",
       "    <tr>\n",
       "      <th>0</th>\n",
       "      <td>1</td>\n",
       "      <td>ANG MO KIO</td>\n",
       "      <td>1 ROOM</td>\n",
       "      <td>10 TO 12</td>\n",
       "      <td>31.0</td>\n",
       "      <td>IMPROVED</td>\n",
       "      <td>1977</td>\n",
       "      <td>9000.0</td>\n",
       "      <td>1990</td>\n",
       "    </tr>\n",
       "    <tr>\n",
       "      <th>1</th>\n",
       "      <td>1</td>\n",
       "      <td>ANG MO KIO</td>\n",
       "      <td>1 ROOM</td>\n",
       "      <td>04 TO 06</td>\n",
       "      <td>31.0</td>\n",
       "      <td>IMPROVED</td>\n",
       "      <td>1977</td>\n",
       "      <td>6000.0</td>\n",
       "      <td>1990</td>\n",
       "    </tr>\n",
       "    <tr>\n",
       "      <th>2</th>\n",
       "      <td>1</td>\n",
       "      <td>ANG MO KIO</td>\n",
       "      <td>1 ROOM</td>\n",
       "      <td>10 TO 12</td>\n",
       "      <td>31.0</td>\n",
       "      <td>IMPROVED</td>\n",
       "      <td>1977</td>\n",
       "      <td>8000.0</td>\n",
       "      <td>1990</td>\n",
       "    </tr>\n",
       "    <tr>\n",
       "      <th>3</th>\n",
       "      <td>1</td>\n",
       "      <td>ANG MO KIO</td>\n",
       "      <td>1 ROOM</td>\n",
       "      <td>07 TO 09</td>\n",
       "      <td>31.0</td>\n",
       "      <td>IMPROVED</td>\n",
       "      <td>1977</td>\n",
       "      <td>6000.0</td>\n",
       "      <td>1990</td>\n",
       "    </tr>\n",
       "    <tr>\n",
       "      <th>4</th>\n",
       "      <td>1</td>\n",
       "      <td>ANG MO KIO</td>\n",
       "      <td>3 ROOM</td>\n",
       "      <td>04 TO 06</td>\n",
       "      <td>73.0</td>\n",
       "      <td>NEW GENERATION</td>\n",
       "      <td>1976</td>\n",
       "      <td>47200.0</td>\n",
       "      <td>1990</td>\n",
       "    </tr>\n",
       "  </tbody>\n",
       "</table>\n",
       "</div>"
      ],
      "text/plain": [
       "   month        town flat_type storey_range  floor_area_sqm      flat_model  \\\n",
       "0      1  ANG MO KIO    1 ROOM     10 TO 12            31.0        IMPROVED   \n",
       "1      1  ANG MO KIO    1 ROOM     04 TO 06            31.0        IMPROVED   \n",
       "2      1  ANG MO KIO    1 ROOM     10 TO 12            31.0        IMPROVED   \n",
       "3      1  ANG MO KIO    1 ROOM     07 TO 09            31.0        IMPROVED   \n",
       "4      1  ANG MO KIO    3 ROOM     04 TO 06            73.0  NEW GENERATION   \n",
       "\n",
       "   lease_commence_date  resale_price  year  \n",
       "0                 1977        9000.0  1990  \n",
       "1                 1977        6000.0  1990  \n",
       "2                 1977        8000.0  1990  \n",
       "3                 1977        6000.0  1990  \n",
       "4                 1976       47200.0  1990  "
      ]
     },
     "execution_count": 30,
     "metadata": {},
     "output_type": "execute_result"
    }
   ],
   "source": [
    "#Model building\n",
    "df.head()"
   ]
  },
  {
   "cell_type": "code",
   "execution_count": 31,
   "id": "2c0d3266-3657-4f60-bf82-690816501ffd",
   "metadata": {},
   "outputs": [],
   "source": [
    "x = df.drop('resale_price',axis=1)\n",
    "y = df['resale_price']"
   ]
  },
  {
   "cell_type": "code",
   "execution_count": 32,
   "id": "276b96b1-efd2-4d6a-9f34-6176266449b6",
   "metadata": {},
   "outputs": [],
   "source": [
    "from sklearn.model_selection import train_test_split"
   ]
  },
  {
   "cell_type": "code",
   "execution_count": 33,
   "id": "b5fe6ddf-d7d3-41f4-9722-274ac0999c10",
   "metadata": {},
   "outputs": [],
   "source": [
    "x_train, x_test, y_train, y_test = train_test_split(x,y,test_size=0.3,random_state=42)"
   ]
  },
  {
   "cell_type": "code",
   "execution_count": 34,
   "id": "059b54db-fea5-436a-9e1f-c7ecf9a1021b",
   "metadata": {},
   "outputs": [],
   "source": [
    "from sklearn.preprocessing import OneHotEncoder\n",
    "town_ohe = OneHotEncoder()\n",
    "flat_type_ohe = OneHotEncoder()\n",
    "storey_range_ohe = OneHotEncoder()\n",
    "flat_model_ohe = OneHotEncoder()"
   ]
  },
  {
   "cell_type": "code",
   "execution_count": 35,
   "id": "10a3365f-6bf7-42f0-8050-4a6d2d7f0f62",
   "metadata": {},
   "outputs": [],
   "source": [
    "town = town_ohe.fit_transform(x_train[['town']]).toarray()\n",
    "flat_type = flat_type_ohe.fit_transform(x_train[['flat_type']]).toarray()\n",
    "storey_range = storey_range_ohe.fit_transform(x_train[['storey_range']]).toarray()\n",
    "flat_model = flat_model_ohe.fit_transform(x_train[['flat_model']]).toarray()"
   ]
  },
  {
   "cell_type": "code",
   "execution_count": 36,
   "id": "df2b356c-0b4b-44b6-a116-5028ffc3bc10",
   "metadata": {},
   "outputs": [],
   "source": [
    "x_train.drop(['town','flat_type','storey_range','flat_model'],axis=1,inplace=True)"
   ]
  },
  {
   "cell_type": "code",
   "execution_count": 37,
   "id": "cf1599b9-deaa-4e7a-b475-018c4bc1a4d0",
   "metadata": {},
   "outputs": [],
   "source": [
    "x_train = np.concatenate([x_train.values,town,flat_type,storey_range,flat_model],axis=1)"
   ]
  },
  {
   "cell_type": "code",
   "execution_count": 38,
   "id": "e30890f0-5a0d-40c9-a27a-020d7da10a04",
   "metadata": {},
   "outputs": [],
   "source": [
    "from sklearn.preprocessing import MinMaxScaler\n",
    "scaler = MinMaxScaler()\n",
    "x_train_scaled = scaler.fit_transform(x_train)"
   ]
  },
  {
   "cell_type": "code",
   "execution_count": 39,
   "id": "8f45a43a-f337-42b7-b03c-6aba090c4852",
   "metadata": {},
   "outputs": [],
   "source": [
    "from sklearn.preprocessing import OneHotEncoder\n",
    "town_ohe_test = OneHotEncoder(handle_unknown='ignore')\n",
    "flat_type_ohe_test = OneHotEncoder(handle_unknown='ignore')\n",
    "storey_range_ohe_test = OneHotEncoder(handle_unknown='ignore')\n",
    "flat_model_ohe_test = OneHotEncoder(handle_unknown='ignore')"
   ]
  },
  {
   "cell_type": "code",
   "execution_count": 40,
   "id": "a252c956-b738-4e93-8989-cbc8ad6bf94f",
   "metadata": {},
   "outputs": [],
   "source": [
    "town = town_ohe_test.fit_transform(x_test[['town']]).toarray()\n",
    "flat_type = flat_type_ohe_test.fit_transform(x_test[['flat_type']]).toarray()\n",
    "storey_range = storey_range_ohe_test.fit_transform(x_test[['storey_range']]).toarray()\n",
    "flat_model = flat_model_ohe_test.fit_transform(x_test[['flat_model']]).toarray()"
   ]
  },
  {
   "cell_type": "code",
   "execution_count": 41,
   "id": "09a831f5-3ab7-4de5-a4a1-d1e09f143926",
   "metadata": {},
   "outputs": [],
   "source": [
    "x_test.drop(['town','flat_type','storey_range','flat_model'],axis=1,inplace=True)"
   ]
  },
  {
   "cell_type": "code",
   "execution_count": 42,
   "id": "3de5169b-fd54-464a-9b5a-b9203362a258",
   "metadata": {},
   "outputs": [],
   "source": [
    "x_test = np.concatenate([x_test.values,town,flat_type,storey_range,flat_model],axis=1)"
   ]
  },
  {
   "cell_type": "code",
   "execution_count": 43,
   "id": "eb9c6ce6-4b03-4516-b0fc-71454fc680ad",
   "metadata": {},
   "outputs": [
    {
     "data": {
      "text/plain": [
       "(639090, 97)"
      ]
     },
     "execution_count": 43,
     "metadata": {},
     "output_type": "execute_result"
    }
   ],
   "source": [
    "x_train.shape"
   ]
  },
  {
   "cell_type": "code",
   "execution_count": 44,
   "id": "efbba1ba-5587-43f7-aea3-dde65c61e295",
   "metadata": {},
   "outputs": [
    {
     "data": {
      "text/plain": [
       "(273896, 98)"
      ]
     },
     "execution_count": 44,
     "metadata": {},
     "output_type": "execute_result"
    }
   ],
   "source": [
    "x_test.shape"
   ]
  },
  {
   "cell_type": "code",
   "execution_count": 45,
   "id": "72cfdbbc-a56d-4f62-ba79-65f52f1d83e7",
   "metadata": {},
   "outputs": [
    {
     "name": "stdout",
     "output_type": "stream",
     "text": [
      "Extra column in x_test: {97}\n"
     ]
    }
   ],
   "source": [
    "import numpy as np\n",
    "\n",
    "# Assuming x_train and x_test are your NumPy arrays\n",
    "columns_train = set(x_train.dtype.names) if x_train.dtype.names else set(range(x_train.shape[1]))\n",
    "columns_test = set(x_test.dtype.names) if x_test.dtype.names else set(range(x_test.shape[1]))\n",
    "\n",
    "# Find the extra column in x_test\n",
    "extra_column = columns_test - columns_train\n",
    "\n",
    "# Print the extra column (if any)\n",
    "if extra_column:\n",
    "    print(\"Extra column in x_test:\", extra_column)\n",
    "else:\n",
    "    print(\"No extra column found in x_test\")"
   ]
  },
  {
   "cell_type": "code",
   "execution_count": 46,
   "id": "a8ee630a-01a0-4fc3-9a63-d365a875ab13",
   "metadata": {},
   "outputs": [],
   "source": [
    "# Assuming 97 is the index of the extra column\n",
    "extra_column_values = np.zeros(x_train.shape[0])  # Replace 0 with an appropriate default value\n",
    "x_train = np.insert(x_train, 97, extra_column_values, axis=1)"
   ]
  },
  {
   "cell_type": "code",
   "execution_count": 47,
   "id": "441b4992-7044-474c-81ed-dbd668d2b2f6",
   "metadata": {},
   "outputs": [
    {
     "data": {
      "text/plain": [
       "(639090, 98)"
      ]
     },
     "execution_count": 47,
     "metadata": {},
     "output_type": "execute_result"
    }
   ],
   "source": [
    "x_train.shape"
   ]
  },
  {
   "cell_type": "code",
   "execution_count": 48,
   "id": "c9c322ec-8011-4a83-ad65-7e4d923e46d7",
   "metadata": {},
   "outputs": [],
   "source": [
    "#Linear regression Model\n",
    "from sklearn.linear_model import LinearRegression"
   ]
  },
  {
   "cell_type": "code",
   "execution_count": 49,
   "id": "25bbe9fa-21f0-4502-ab9d-c05c53585c5e",
   "metadata": {},
   "outputs": [],
   "source": [
    "lr = LinearRegression()"
   ]
  },
  {
   "cell_type": "code",
   "execution_count": 50,
   "id": "c31e2ce9-8cad-474f-8a54-01e4e0886067",
   "metadata": {},
   "outputs": [
    {
     "data": {
      "text/plain": [
       "LinearRegression()"
      ]
     },
     "execution_count": 50,
     "metadata": {},
     "output_type": "execute_result"
    }
   ],
   "source": [
    "lr.fit(x_train,y_train)"
   ]
  },
  {
   "cell_type": "code",
   "execution_count": 51,
   "id": "36ca80b1-0441-4896-bce1-c5b47e5f4589",
   "metadata": {},
   "outputs": [],
   "source": [
    "predictions = lr.predict(x_test)"
   ]
  },
  {
   "cell_type": "code",
   "execution_count": 52,
   "id": "0b554234-cede-4df0-a1d2-3c068096baf9",
   "metadata": {},
   "outputs": [],
   "source": [
    "from sklearn.metrics import r2_score"
   ]
  },
  {
   "cell_type": "code",
   "execution_count": 53,
   "id": "4a582416-0106-4907-a756-116912c437c0",
   "metadata": {},
   "outputs": [
    {
     "data": {
      "text/plain": [
       "0.12060742284544612"
      ]
     },
     "execution_count": 53,
     "metadata": {},
     "output_type": "execute_result"
    }
   ],
   "source": [
    "r2_score(y_test,predictions)"
   ]
  },
  {
   "cell_type": "code",
   "execution_count": 54,
   "id": "0f48a5d0-f3b9-4866-a3c9-6d64f323b8ea",
   "metadata": {},
   "outputs": [
    {
     "data": {
      "text/plain": [
       "0.8569838466505233"
      ]
     },
     "execution_count": 54,
     "metadata": {},
     "output_type": "execute_result"
    }
   ],
   "source": [
    "pred = lr.predict(x_train)\n",
    "r2_score(y_train,pred)"
   ]
  },
  {
   "cell_type": "code",
   "execution_count": 55,
   "id": "d6927ad2-1f63-4d47-845f-3efc358f022d",
   "metadata": {},
   "outputs": [],
   "source": [
    "#Desicion Tree Model\n",
    "from sklearn.tree import DecisionTreeRegressor\n",
    "dt = DecisionTreeRegressor()\n",
    "dt.fit(x_train,y_train)\n",
    "y_pred = dt.predict(x_test)"
   ]
  },
  {
   "cell_type": "code",
   "execution_count": 56,
   "id": "fefda31a-b7ce-4920-a4d9-63eda93aba12",
   "metadata": {},
   "outputs": [
    {
     "data": {
      "text/plain": [
       "0.9192853825544571"
      ]
     },
     "execution_count": 56,
     "metadata": {},
     "output_type": "execute_result"
    }
   ],
   "source": [
    "r2_score(y_test,y_pred)"
   ]
  },
  {
   "cell_type": "code",
   "execution_count": 57,
   "id": "c0269ffd-872c-4329-99c0-a1526aedd06b",
   "metadata": {},
   "outputs": [
    {
     "data": {
      "text/plain": [
       "0.018903388907424084"
      ]
     },
     "execution_count": 57,
     "metadata": {},
     "output_type": "execute_result"
    }
   ],
   "source": [
    "from sklearn.metrics import mean_absolute_error as mae\n",
    "mae(y_test,y_pred)/df['resale_price'].max()"
   ]
  },
  {
   "cell_type": "code",
   "execution_count": 58,
   "id": "17d1e93a-0f5b-4e1d-ad78-edb6d247f7c0",
   "metadata": {},
   "outputs": [
    {
     "data": {
      "text/plain": [
       "0.9984399304185478"
      ]
     },
     "execution_count": 58,
     "metadata": {},
     "output_type": "execute_result"
    }
   ],
   "source": [
    "yt_pred = dt.predict(x_train)\n",
    "r2_score(y_train,yt_pred)"
   ]
  },
  {
   "cell_type": "code",
   "execution_count": 59,
   "id": "a1168e19-6e4e-43e6-a59c-218eb63a8dad",
   "metadata": {},
   "outputs": [],
   "source": [
    "#Testing "
   ]
  },
  {
   "cell_type": "code",
   "execution_count": 60,
   "id": "868fcfbc-374a-490f-9bc1-182d8d4bf031",
   "metadata": {},
   "outputs": [
    {
     "data": {
      "text/plain": [
       "Index(['month', 'town', 'flat_type', 'storey_range', 'floor_area_sqm',\n",
       "       'flat_model', 'lease_commence_date', 'resale_price', 'year'],\n",
       "      dtype='object')"
      ]
     },
     "execution_count": 60,
     "metadata": {},
     "output_type": "execute_result"
    }
   ],
   "source": [
    "df.columns"
   ]
  },
  {
   "cell_type": "code",
   "execution_count": 61,
   "id": "46f67059-e490-4ea0-ab37-6b6eebdff5fe",
   "metadata": {},
   "outputs": [],
   "source": [
    "month = 7\n",
    "town = 'JURONG EAST'\n",
    "flat_type = '4 ROOM'\n",
    "storey_range = '13 TO 15'\n",
    "floor_area_sqm = 91.0\n",
    "flat_model = 'Model A2'\n",
    "lease_commence_date = 1998\n",
    "year = 2014"
   ]
  },
  {
   "cell_type": "code",
   "execution_count": 62,
   "id": "f6e7c5bc-d96a-45fe-9a21-22d1150efead",
   "metadata": {},
   "outputs": [],
   "source": [
    "town = town_ohe.transform([[town]]).toarray()\n",
    "flat_type = flat_type_ohe.transform([[flat_type]]).toarray()\n",
    "storey_range = storey_range_ohe.transform([[storey_range]]).toarray()\n",
    "flat_model = flat_model_ohe.transform([[flat_model]]).toarray()"
   ]
  },
  {
   "cell_type": "code",
   "execution_count": 63,
   "id": "74d8be93-de86-4479-92b2-8d43e752a9b2",
   "metadata": {},
   "outputs": [],
   "source": [
    "month = np.array([[month]])\n",
    "floor_area_sqm = np.array([[floor_area_sqm]])\n",
    "lease_commence_date = np.array([[lease_commence_date]])\n",
    "year = np.array([[year]])"
   ]
  },
  {
   "cell_type": "code",
   "execution_count": 64,
   "id": "610e3269-9450-404d-a0b8-d16f80e0a734",
   "metadata": {},
   "outputs": [],
   "source": [
    "x = np.concatenate([month, floor_area_sqm, lease_commence_date, year,town, flat_type, storey_range, flat_model],axis=1)"
   ]
  },
  {
   "cell_type": "code",
   "execution_count": 65,
   "id": "6df898ef-391c-4027-8fa6-a7feb7f6bec1",
   "metadata": {},
   "outputs": [],
   "source": [
    "x = scaler.transform(x)"
   ]
  },
  {
   "cell_type": "code",
   "execution_count": 66,
   "id": "96e7f74f-1b53-405b-9de6-c49c56045141",
   "metadata": {},
   "outputs": [
    {
     "data": {
      "text/plain": [
       "array([[0.54545455, 0.22580645, 0.57142857, 0.72727273, 0.        ,\n",
       "        0.        , 0.        , 0.        , 0.        , 0.        ,\n",
       "        0.        , 0.        , 0.        , 0.        , 0.        ,\n",
       "        0.        , 1.        , 0.        , 0.        , 0.        ,\n",
       "        0.        , 0.        , 0.        , 0.        , 0.        ,\n",
       "        0.        , 0.        , 0.        , 0.        , 0.        ,\n",
       "        0.        , 0.        , 0.        , 0.        , 1.        ,\n",
       "        0.        , 0.        , 0.        , 0.        , 0.        ,\n",
       "        0.        , 0.        , 0.        , 0.        , 0.        ,\n",
       "        0.        , 1.        , 0.        , 0.        , 0.        ,\n",
       "        0.        , 0.        , 0.        , 0.        , 0.        ,\n",
       "        0.        , 0.        , 0.        , 0.        , 0.        ,\n",
       "        0.        , 0.        , 0.        , 0.        , 0.        ,\n",
       "        0.        , 0.        , 0.        , 0.        , 0.        ,\n",
       "        0.        , 0.        , 0.        , 0.        , 0.        ,\n",
       "        0.        , 0.        , 0.        , 0.        , 0.        ,\n",
       "        0.        , 1.        , 0.        , 0.        , 0.        ,\n",
       "        0.        , 0.        , 0.        , 0.        , 0.        ,\n",
       "        0.        , 0.        , 0.        , 0.        , 0.        ,\n",
       "        0.        , 0.        ]])"
      ]
     },
     "execution_count": 66,
     "metadata": {},
     "output_type": "execute_result"
    }
   ],
   "source": [
    "x"
   ]
  },
  {
   "cell_type": "code",
   "execution_count": 74,
   "id": "e76bd60d-7ec8-4598-8837-b41a15fd958f",
   "metadata": {},
   "outputs": [],
   "source": [
    "# dt.predict(x)"
   ]
  },
  {
   "cell_type": "code",
   "execution_count": 77,
   "id": "0ad34f3f-dc16-4a08-8634-44ea21bf5f42",
   "metadata": {},
   "outputs": [
    {
     "data": {
      "text/plain": [
       "month                            7\n",
       "town                   JURONG EAST\n",
       "flat_type                   4 ROOM\n",
       "storey_range              13 TO 15\n",
       "floor_area_sqm                91.0\n",
       "flat_model                Model A2\n",
       "lease_commence_date           1998\n",
       "resale_price              495000.0\n",
       "year                          2014\n",
       "Name: 701244, dtype: object"
      ]
     },
     "execution_count": 77,
     "metadata": {},
     "output_type": "execute_result"
    }
   ],
   "source": [
    "df.iloc[701244]"
   ]
  },
  {
   "cell_type": "code",
   "execution_count": 78,
   "id": "bc71bb90-9de0-4681-a664-577c869ccf2c",
   "metadata": {},
   "outputs": [],
   "source": [
    "import pickle\n",
    "\n",
    "with open('Resale_flat_price.pkl','wb') as f:\n",
    "    pickle.dump(dt,f)\n",
    "with open('town_ohe.pkl','wb') as f:\n",
    "    pickle.dump(town_ohe,f)\n",
    "with open('flat_type_ohe.pkl','wb') as f:\n",
    "    pickle.dump(flat_type_ohe,f)\n",
    "with open('storey_range_ohe.pkl','wb') as f:\n",
    "    pickle.dump(storey_range_ohe,f)\n",
    "with open('flat_model_ohe.pkl','wb') as f:\n",
    "    pickle.dump(flat_model_ohe,f)\n",
    "with open('Resale_flat_scaler.pkl','wb') as f:\n",
    "    pickle.dump(scaler,f)"
   ]
  },
  {
   "cell_type": "code",
   "execution_count": null,
   "id": "e6932204-f061-4c71-94e4-4339469298e1",
   "metadata": {},
   "outputs": [],
   "source": []
  }
 ],
 "metadata": {
  "kernelspec": {
   "display_name": "Python 3 (ipykernel)",
   "language": "python",
   "name": "python3"
  },
  "language_info": {
   "codemirror_mode": {
    "name": "ipython",
    "version": 3
   },
   "file_extension": ".py",
   "mimetype": "text/x-python",
   "name": "python",
   "nbconvert_exporter": "python",
   "pygments_lexer": "ipython3",
   "version": "3.9.6"
  }
 },
 "nbformat": 4,
 "nbformat_minor": 5
}
